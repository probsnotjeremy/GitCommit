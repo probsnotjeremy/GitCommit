{
 "cells": [
  {
   "cell_type": "code",
   "execution_count": null,
   "id": "71eeddff",
   "metadata": {},
   "outputs": [],
   "source": [
    "import nltk\n",
    "from sentence_transformers import SentenceTransformer, util\n",
    "from datasets import load_dataset\n",
    "\n",
    "# --------------------------\n",
    "# Global vars\n",
    "# --------------------------\n",
    "\n",
    "ds = load_dataset(\"sentence-transformers/natural-questions\")\n",
    "dataset_split = ds[\"train\"]\n",
    "stopwords = {\"the\", \"a\", \"and\", \"is\", \"to\", \"of\", \"in\", \"on\"}\n",
    "# --------------------------\n",
    "# WordNet setup\n",
    "# --------------------------\n",
    "try:\n",
    "    from nltk.corpus import wordnet\n",
    "    _ = wordnet.synsets(\"car\")\n",
    "except LookupError:\n",
    "    nltk.download(\"wordnet\")\n",
    "    nltk.download(\"omw-1.4\")\n",
    "    from nltk.corpus import wordnet\n",
    "\n",
    "# --------------------------\n",
    "# SentenceTransformer setup\n",
    "# --------------------------\n",
    "\n",
    "embedder = SentenceTransformer(\"all-MiniLM-L6-v2\", device=\"cpu\")\n",
    "\n",
    "# --------------------------\n",
    "# Text utilities\n",
    "# --------------------------\n",
    "\n",
    "def clean_words(text):\n",
    "    return [w.lower() for w in text.split() if w.lower() not in stopwords]\n",
    "def expand_with_synonyms(words):\n",
    "    expanded = set(words)\n",
    "    for w in words:\n",
    "        for syn in wordnet.synsets(w):\n",
    "            for lemma in syn.lemmas():\n",
    "                expanded.add(lemma.name().lower().replace(\"_\", \" \"))\n",
    "    return expanded\n",
    "\n",
    "def overlap_percent(answer, response, use_synonyms=True):\n",
    "    a_words = clean_words(answer)\n",
    "    r_words = clean_words(response)\n",
    "\n",
    "    if use_synonyms:\n",
    "        a_set = expand_with_synonyms(a_words)\n",
    "        r_set = expand_with_synonyms(r_words)\n",
    "    else:\n",
    "        a_set, r_set = set(a_words), set(r_words)\n",
    "\n",
    "    if not a_set:\n",
    "        return 0\n",
    "    return len(a_set & r_set) / len(a_set) * 100\n",
    "\n",
    "def semantic_percent(answer, response):\n",
    "    # Compute embeddings and cosine similarity\n",
    "    emb_a = embedder.encode(answer, convert_to_tensor=True)\n",
    "    emb_r = embedder.encode(response, convert_to_tensor=True)\n",
    "    sim = util.pytorch_cos_sim(emb_a, emb_r).item()\n",
    "    return sim * 100  # percentage"
   ]
  }
 ],
 "metadata": {
  "jupytext": {
   "formats": "ipynb,py:light"
  },
  "kernelspec": {
   "display_name": "Python (vLLM)",
   "language": "python",
   "name": "vllm-env"
  },
  "language_info": {
   "codemirror_mode": {
    "name": "ipython",
    "version": 3
   },
   "file_extension": ".py",
   "mimetype": "text/x-python",
   "name": "python",
   "nbconvert_exporter": "python",
   "pygments_lexer": "ipython3",
   "version": "3.11.0"
  }
 },
 "nbformat": 4,
 "nbformat_minor": 5
}
