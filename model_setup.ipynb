{
 "cells": [
  {
   "cell_type": "code",
   "execution_count": 3,
   "id": "65ce1a50",
   "metadata": {},
   "outputs": [
    {
     "data": {
      "application/vnd.jupyter.widget-view+json": {
       "model_id": "692b699dd56a427a970a7b086baad793",
       "version_major": 2,
       "version_minor": 0
      },
      "text/plain": [
       "Loading checkpoint shards:   0%|          | 0/2 [00:00<?, ?it/s]"
      ]
     },
     "metadata": {},
     "output_type": "display_data"
    },
    {
     "data": {
      "application/vnd.jupyter.widget-view+json": {
       "model_id": "c67bc2336bb44550a3d53484b71c65c7",
       "version_major": 2,
       "version_minor": 0
      },
      "text/plain": [
       "Map:   0%|          | 0/100231 [00:00<?, ? examples/s]"
      ]
     },
     "metadata": {},
     "output_type": "display_data"
    },
    {
     "name": "stdout",
     "output_type": "stream",
     "text": [
      "QLoRA-ready model initialized.\n"
     ]
    }
   ],
   "source": [
    "from transformers import AutoTokenizer, AutoModelForCausalLM, BitsAndBytesConfig\n",
    "import torch\n",
    "from peft import LoraConfig, get_peft_model\n",
    "from dataset_prep import ds\n",
    "\n",
    "\n",
    "# --------------------------\n",
    "# Global vars\n",
    "# --------------------------\n",
    "history = []\n",
    "filename = \"TestResults.json\"\n",
    "\n",
    "# --------------------------\n",
    "# Setup model + tokenizer\n",
    "# --------------------------\n",
    "model_id = \"microsoft/phi-2\"\n",
    "\n",
    "# bnb_config = BitsAndBytesConfig(\n",
    "#    load_in_8bit=True,\n",
    "#    llm_int8_threshold=6.0,\n",
    "#    llm_int8_skip_modules=None,\n",
    "#    llm_int8_enable_fp32_cpu_offload=False\n",
    "# )\n",
    "\n",
    "bnb_config = BitsAndBytesConfig(\n",
    "    load_in_4bit=True,\n",
    "    bnb_4bit_use_double_quant=True,\n",
    "    bnb_4bit_quant_type=\"nf4\",\n",
    "    bnb_4bit_compute_dtype=\"float16\",  # GTX 1070 supports fp16, not bf16\n",
    ")\n",
    "\n",
    "tokenizer = AutoTokenizer.from_pretrained(model_id)\n",
    "tokenizer.pad_token = tokenizer.eos_token\n",
    "\n",
    "model = AutoModelForCausalLM.from_pretrained(\n",
    "    model_id,\n",
    "    device_map=\"auto\",\n",
    "    dtype=torch.float16,\n",
    "    quantization_config=bnb_config\n",
    ")\n",
    "\n",
    "# --------------------------\n",
    "# LLM wrapper\n",
    "# --------------------------\n",
    "def ask_phi2(user_input, max_new_tokens=128):\n",
    "    global history\n",
    "    history.append(f\"User: {user_input}\")\n",
    "    prompt = \"\\n\".join(history) + \"\\nAssistant:\"\n",
    "\n",
    "    inputs = tokenizer(prompt, return_tensors=\"pt\").to(model.device)\n",
    "    output_ids = model.generate(\n",
    "        **inputs,\n",
    "        max_new_tokens=max_new_tokens,\n",
    "        temperature=0.3,\n",
    "        top_p=0.9,\n",
    "        repetition_penalty=1.2,\n",
    "        do_sample=False,\n",
    "        pad_token_id=tokenizer.eos_token_id,\n",
    "    )\n",
    "\n",
    "    # Decode only new tokens (not the prompt)\n",
    "    gen_ids = output_ids[0][inputs[\"input_ids\"].shape[1]:]\n",
    "    response = tokenizer.decode(gen_ids, skip_special_tokens=True).strip()\n",
    "\n",
    "    print(f\"Generated {len(gen_ids)} tokens\")\n",
    "\n",
    "    history.append(f\"Assistant: {response}\")\n",
    "    return response\n",
    "\n",
    "\n",
    "def send_to_llm(question):\n",
    "    global history\n",
    "    history = []  # reset history per question\n",
    "    return ask_phi2(question)\n",
    "\n",
    "# --------------------------\n",
    "# Tokenizer\n",
    "# --------------------------\n",
    "\n",
    "raw_dataset = ds\n",
    "\n",
    "def tokenize_function(examples):\n",
    "    inputs = [f\"Question: {q}\" for q in examples[\"query\"]]\n",
    "    targets = [a for a in examples[\"answer\"]]\n",
    "\n",
    "    model_inputs = tokenizer(\n",
    "        inputs,\n",
    "        padding=\"max_length\",\n",
    "        truncation=True,\n",
    "        max_length=256\n",
    "    )\n",
    "\n",
    "    labels = tokenizer(\n",
    "        targets,\n",
    "        padding=\"max_length\",\n",
    "        truncation=True,\n",
    "        max_length=256\n",
    "    )[\"input_ids\"]\n",
    "\n",
    "    model_inputs[\"labels\"] = labels\n",
    "    return model_inputs\n",
    "\n",
    "\n",
    "tokenized_dataset = raw_dataset.map(\n",
    "    tokenize_function,\n",
    "    batched=True,\n",
    "    # remove_columns=[\"query\", \"answer\"]\n",
    ")\n",
    "\n",
    "\n",
    "# --------------------------\n",
    "# LoRA setup\n",
    "# --------------------------\n",
    "\n",
    "def make_lora_config(r=16, alpha=32, dropout=0.05):\n",
    "    print(\"QLoRA-ready model initialized.\")\n",
    "    return LoraConfig(\n",
    "        r=r,\n",
    "        lora_alpha=alpha,\n",
    "        target_modules=[\"q_proj\", \"v_proj\"],\n",
    "        lora_dropout=dropout,\n",
    "        bias=\"none\",\n",
    "        task_type=\"CAUSAL_LM\"\n",
    "    )\n",
    "\n",
    "lora_model = get_peft_model(model, make_lora_config())\n",
    "\n"
   ]
  }
 ],
 "metadata": {
  "jupytext": {
   "formats": "ipynb,py:light"
  },
  "kernelspec": {
   "display_name": "Python (vLLM)",
   "language": "python",
   "name": "vllm-env"
  },
  "language_info": {
   "codemirror_mode": {
    "name": "ipython",
    "version": 3
   },
   "file_extension": ".py",
   "mimetype": "text/x-python",
   "name": "python",
   "nbconvert_exporter": "python",
   "pygments_lexer": "ipython3",
   "version": "3.11.0"
  }
 },
 "nbformat": 4,
 "nbformat_minor": 5
}
