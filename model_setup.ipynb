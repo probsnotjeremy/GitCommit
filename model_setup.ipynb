{
 "cells": [
  {
   "cell_type": "code",
   "execution_count": null,
   "id": "881f0d4f",
   "metadata": {
    "lines_to_next_cell": 0
   },
   "outputs": [],
   "source": []
  },
  {
   "cell_type": "markdown",
   "id": "c00e6e3c",
   "metadata": {
    "lines_to_next_cell": 2
   },
   "source": [
    "In[ ]:"
   ]
  },
  {
   "cell_type": "code",
   "execution_count": null,
   "id": "d315a2e5",
   "metadata": {},
   "outputs": [],
   "source": [
    "from transformers import AutoTokenizer, AutoModelForCausalLM, BitsAndBytesConfig\n",
    "import torch\n",
    "from peft import LoraConfig, get_peft_model"
   ]
  },
  {
   "cell_type": "code",
   "execution_count": null,
   "id": "30b46429",
   "metadata": {},
   "outputs": [],
   "source": [
    "# --------------------------\n",
    "# Global vars\n",
    "# --------------------------\n",
    "history = []\n",
    "filename = \"TestResults.json\""
   ]
  },
  {
   "cell_type": "code",
   "execution_count": null,
   "id": "9b8b8015",
   "metadata": {},
   "outputs": [],
   "source": [
    "# --------------------------\n",
    "# Setup model + tokenizer\n",
    "# --------------------------\n",
    "model_id = \"microsoft/phi-2\""
   ]
  },
  {
   "cell_type": "code",
   "execution_count": null,
   "id": "e4284620",
   "metadata": {},
   "outputs": [],
   "source": [
    "bnb_config = BitsAndBytesConfig(\n",
    "    load_in_8bit=True,\n",
    "    llm_int8_threshold=6.0,\n",
    "    llm_int8_skip_modules=None,\n",
    "    llm_int8_enable_fp32_cpu_offload=False\n",
    ")"
   ]
  },
  {
   "cell_type": "code",
   "execution_count": null,
   "id": "bd85ca0f",
   "metadata": {
    "lines_to_next_cell": 1
   },
   "outputs": [],
   "source": [
    "tokenizer = AutoTokenizer.from_pretrained(model_id)\n",
    "model = AutoModelForCausalLM.from_pretrained(\n",
    "    model_id,\n",
    "    device_map=\"auto\",\n",
    "    dtype=torch.float16,\n",
    "    quantization_config=bnb_config\n",
    ")"
   ]
  },
  {
   "cell_type": "code",
   "execution_count": null,
   "id": "ff5b46ef",
   "metadata": {},
   "outputs": [],
   "source": [
    "# --------------------------\n",
    "# LLM wrapper\n",
    "# --------------------------\n",
    "def ask_phi2(user_input, max_new_tokens=128):\n",
    "    global history\n",
    "    history.append(f\"User: {user_input}\")\n",
    "    prompt = \"\\n\".join(history) + \"\\nAssistant:\"\n",
    "\n",
    "    inputs = tokenizer(prompt, return_tensors=\"pt\").to(model.device)\n",
    "    output_ids = model.generate(\n",
    "        **inputs,\n",
    "        max_new_tokens=max_new_tokens,\n",
    "        temperature=0.3,\n",
    "        top_p=0.9,\n",
    "        repetition_penalty=1.2,\n",
    "        do_sample=False,\n",
    "        pad_token_id=tokenizer.eos_token_id,\n",
    "    )\n",
    "\n",
    "    # Decode only new tokens (not the prompt)\n",
    "    gen_ids = output_ids[0][inputs[\"input_ids\"].shape[1]:]\n",
    "    response = tokenizer.decode(gen_ids, skip_special_tokens=True).strip()\n",
    "\n",
    "    print(f\"Generated {len(gen_ids)} tokens\")\n",
    "\n",
    "    history.append(f\"Assistant: {response}\")\n",
    "    return response"
   ]
  },
  {
   "cell_type": "code",
   "execution_count": null,
   "id": "a7c3c99c",
   "metadata": {
    "lines_to_next_cell": 1
   },
   "outputs": [],
   "source": [
    "def send_to_llm(question):\n",
    "    global history\n",
    "    history = []  # reset history per question\n",
    "    return ask_phi2(question)"
   ]
  },
  {
   "cell_type": "markdown",
   "id": "814bc9a5",
   "metadata": {},
   "source": [
    "--------------------------\n",
    "LoRA setup\n",
    "--------------------------"
   ]
  },
  {
   "cell_type": "code",
   "execution_count": null,
   "id": "0087e918",
   "metadata": {
    "lines_to_next_cell": 1
   },
   "outputs": [],
   "source": [
    "def make_lora_config(r=16, alpha=32, dropout=0.05):\n",
    "    print(\"QLoRA-ready model initialized.\")\n",
    "    return LoraConfig(\n",
    "        r=r,\n",
    "        lora_alpha=alpha,\n",
    "        target_modules=[\"q_proj\", \"v_proj\"],\n",
    "        lora_dropout=dropout,\n",
    "        bias=\"none\",\n",
    "        task_type=\"CAUSAL_LM\"\n",
    "    )"
   ]
  },
  {
   "cell_type": "code",
   "execution_count": null,
   "id": "65ce1a50",
   "metadata": {},
   "outputs": [],
   "source": [
    "model = get_peft_model(model, make_lora_config())"
   ]
  },
  {
   "cell_type": "code",
   "execution_count": null,
   "id": "673f4b87",
   "metadata": {},
   "outputs": [],
   "source": []
  }
 ],
 "metadata": {
  "jupytext": {
   "formats": "ipynb,py:light"
  },
  "kernelspec": {
   "display_name": "Python (vLLM)",
   "language": "python",
   "name": "vllm-env"
  },
  "language_info": {
   "codemirror_mode": {
    "name": "ipython",
    "version": 3
   },
   "file_extension": ".py",
   "mimetype": "text/x-python",
   "name": "python",
   "nbconvert_exporter": "python",
   "pygments_lexer": "ipython3",
   "version": "3.11.0"
  }
 },
 "nbformat": 4,
 "nbformat_minor": 5
}
